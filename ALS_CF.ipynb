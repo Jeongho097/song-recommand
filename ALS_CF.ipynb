{
 "cells": [
  {
   "cell_type": "code",
   "execution_count": 1,
   "id": "9ab46d53-66b5-4d0d-84b2-43d6f73fa7f9",
   "metadata": {
    "ExecuteTime": {
     "end_time": "2022-04-26T11:12:25.482763Z",
     "start_time": "2022-04-26T11:12:23.943609Z"
    }
   },
   "outputs": [],
   "source": [
    "import numpy as np\n",
    "import pandas as pd\n",
    "from tqdm import tqdm\n",
    "tqdm.pandas()\n",
    "from itertools import chain\n",
    "from sklearn.model_selection import train_test_split\n",
    "from scipy.sparse import *\n",
    "from scipy.sparse.linalg import svds\n",
    "import random"
   ]
  },
  {
   "cell_type": "markdown",
   "id": "acc273ff-a70c-4729-bc22-aa2b16710030",
   "metadata": {},
   "source": [
    "# implicit 라이브러리를 활용한 멜론 노래 추천\n",
    "\n",
    "데이터 출처  \n",
    "- [카카오 아레나 Melon Playlist Continuation](https://arena.kakao.com/c/8/data)"
   ]
  },
  {
   "cell_type": "markdown",
   "id": "6d9c008c-5ba0-49a5-b826-8c8a2db0a9cc",
   "metadata": {},
   "source": [
    "### 데이터 불러오기"
   ]
  },
  {
   "cell_type": "code",
   "execution_count": 2,
   "id": "db78e40a-7e1c-4d81-b0e2-801aab4206c5",
   "metadata": {
    "ExecuteTime": {
     "end_time": "2022-04-26T11:12:37.967059Z",
     "start_time": "2022-04-26T11:12:29.397071Z"
    }
   },
   "outputs": [
    {
     "data": {
      "text/html": [
       "<div>\n",
       "<style scoped>\n",
       "    .dataframe tbody tr th:only-of-type {\n",
       "        vertical-align: middle;\n",
       "    }\n",
       "\n",
       "    .dataframe tbody tr th {\n",
       "        vertical-align: top;\n",
       "    }\n",
       "\n",
       "    .dataframe thead th {\n",
       "        text-align: right;\n",
       "    }\n",
       "</style>\n",
       "<table border=\"1\" class=\"dataframe\">\n",
       "  <thead>\n",
       "    <tr style=\"text-align: right;\">\n",
       "      <th></th>\n",
       "      <th>tags</th>\n",
       "      <th>id</th>\n",
       "      <th>plylst_title</th>\n",
       "      <th>songs</th>\n",
       "      <th>like_cnt</th>\n",
       "      <th>updt_date</th>\n",
       "    </tr>\n",
       "  </thead>\n",
       "  <tbody>\n",
       "    <tr>\n",
       "      <th>0</th>\n",
       "      <td>[락]</td>\n",
       "      <td>61281</td>\n",
       "      <td>여행같은 음악</td>\n",
       "      <td>[525514, 129701, 383374, 562083, 297861, 13954...</td>\n",
       "      <td>71</td>\n",
       "      <td>2013-12-19 18:36:19.000</td>\n",
       "    </tr>\n",
       "    <tr>\n",
       "      <th>1</th>\n",
       "      <td>[추억, 회상]</td>\n",
       "      <td>10532</td>\n",
       "      <td>요즘 너 말야</td>\n",
       "      <td>[432406, 675945, 497066, 120377, 389529, 24427...</td>\n",
       "      <td>1</td>\n",
       "      <td>2014-12-02 16:19:42.000</td>\n",
       "    </tr>\n",
       "    <tr>\n",
       "      <th>2</th>\n",
       "      <td>[까페, 잔잔한]</td>\n",
       "      <td>76951</td>\n",
       "      <td>편하게, 잔잔하게 들을 수 있는 곡.-</td>\n",
       "      <td>[83116, 276692, 166267, 186301, 354465, 256598...</td>\n",
       "      <td>17</td>\n",
       "      <td>2017-08-28 07:09:34.000</td>\n",
       "    </tr>\n",
       "    <tr>\n",
       "      <th>3</th>\n",
       "      <td>[연말, 눈오는날, 캐럴, 분위기, 따듯한, 크리스마스캐럴, 겨울노래, 크리스마스,...</td>\n",
       "      <td>147456</td>\n",
       "      <td>크리스마스 분위기에 흠뻑 취하고 싶을때</td>\n",
       "      <td>[394031, 195524, 540149, 287984, 440773, 10033...</td>\n",
       "      <td>33</td>\n",
       "      <td>2019-12-05 15:15:18.000</td>\n",
       "    </tr>\n",
       "    <tr>\n",
       "      <th>4</th>\n",
       "      <td>[댄스]</td>\n",
       "      <td>27616</td>\n",
       "      <td>추억의 노래 ㅋ</td>\n",
       "      <td>[159327, 553610, 5130, 645103, 294435, 100657,...</td>\n",
       "      <td>9</td>\n",
       "      <td>2011-10-25 13:54:56.000</td>\n",
       "    </tr>\n",
       "  </tbody>\n",
       "</table>\n",
       "</div>"
      ],
      "text/plain": [
       "                                                tags      id  \\\n",
       "0                                                [락]   61281   \n",
       "1                                           [추억, 회상]   10532   \n",
       "2                                          [까페, 잔잔한]   76951   \n",
       "3  [연말, 눈오는날, 캐럴, 분위기, 따듯한, 크리스마스캐럴, 겨울노래, 크리스마스,...  147456   \n",
       "4                                               [댄스]   27616   \n",
       "\n",
       "            plylst_title                                              songs  \\\n",
       "0                여행같은 음악  [525514, 129701, 383374, 562083, 297861, 13954...   \n",
       "1                요즘 너 말야  [432406, 675945, 497066, 120377, 389529, 24427...   \n",
       "2  편하게, 잔잔하게 들을 수 있는 곡.-  [83116, 276692, 166267, 186301, 354465, 256598...   \n",
       "3  크리스마스 분위기에 흠뻑 취하고 싶을때  [394031, 195524, 540149, 287984, 440773, 10033...   \n",
       "4               추억의 노래 ㅋ  [159327, 553610, 5130, 645103, 294435, 100657,...   \n",
       "\n",
       "   like_cnt                updt_date  \n",
       "0        71  2013-12-19 18:36:19.000  \n",
       "1         1  2014-12-02 16:19:42.000  \n",
       "2        17  2017-08-28 07:09:34.000  \n",
       "3        33  2019-12-05 15:15:18.000  \n",
       "4         9  2011-10-25 13:54:56.000  "
      ]
     },
     "execution_count": 2,
     "metadata": {},
     "output_type": "execute_result"
    }
   ],
   "source": [
    "playlist = pd.read_json('data/train.json')\n",
    "song_meta = pd.read_json('data/song_meta.json')\n",
    "playlist.head(5)"
   ]
  },
  {
   "cell_type": "markdown",
   "id": "71075c2f-01f8-4a8d-ba97-f3b2eacbe9c7",
   "metadata": {},
   "source": [
    "---"
   ]
  },
  {
   "cell_type": "markdown",
   "id": "8d63d8e5-a6cb-4577-a144-f41f1547bdd4",
   "metadata": {},
   "source": [
    "### 데이터 변환"
   ]
  },
  {
   "cell_type": "markdown",
   "id": "3c3bce09-8d2c-48b1-9710-cde4fb278ba4",
   "metadata": {},
   "source": [
    "- `playlists x songs` 테이블을 한번에 만들기에는 희소행렬의 크기가 너무 커서 scr 방식으로 만들어야 한다"
   ]
  },
  {
   "cell_type": "code",
   "execution_count": 3,
   "id": "77be934d-4cdd-4a3f-9a4e-70dad87ffed2",
   "metadata": {
    "ExecuteTime": {
     "end_time": "2022-04-26T11:12:38.825283Z",
     "start_time": "2022-04-26T11:12:38.094255Z"
    }
   },
   "outputs": [
    {
     "name": "stderr",
     "output_type": "stream",
     "text": [
      "100%|█████████████████████████████████████████████████████████████████████| 115071/115071 [00:00<00:00, 1027144.25it/s]\n"
     ]
    }
   ],
   "source": [
    "# 각 플레이리스트 곡 수 컬럼 생성\n",
    "playlist['song_cnt'] = playlist['songs'].progress_apply(lambda x: len(x))\n",
    "\n",
    "# 플레일리스트에 포함된 모든 노래 리스트\n",
    "all_songs = list(set(chain(*playlist['songs'])))\n",
    "# 모든 노래 수\n",
    "N_songs = len(all_songs)\n",
    "\n",
    "# 0부터 시작하는 id를 노래에 새로 할당하기 위한 dict\n",
    "song_to_newid = dict(zip(all_songs, range(N_songs)))\n",
    "newid_to_song = dict( zip(range(N_songs), all_songs)) "
   ]
  },
  {
   "cell_type": "code",
   "execution_count": 4,
   "id": "8b726eb9-d580-4fac-aac1-ee450c78aa5c",
   "metadata": {
    "ExecuteTime": {
     "end_time": "2022-04-26T11:12:42.227091Z",
     "start_time": "2022-04-26T11:12:40.555727Z"
    }
   },
   "outputs": [
    {
     "name": "stderr",
     "output_type": "stream",
     "text": [
      "100%|███████████████████████████████████████████████████████████████████████| 115071/115071 [00:01<00:00, 69767.07it/s]\n"
     ]
    }
   ],
   "source": [
    "#기존 곡 id를 새 id로 바꾼 컬럼을 만든다.\n",
    "playlist['song_newid'] = playlist['songs'].progress_apply(lambda x: [song_to_newid[song] for song in x])"
   ]
  },
  {
   "cell_type": "markdown",
   "id": "523c5368-6be7-4f72-bd4e-7bf996ecbd81",
   "metadata": {},
   "source": [
    "---"
   ]
  },
  {
   "cell_type": "markdown",
   "id": "f2fec444-b4d4-4c94-b6b8-f2ca155f3076",
   "metadata": {},
   "source": [
    "**csr sparse matrix 만들기**"
   ]
  },
  {
   "cell_type": "code",
   "execution_count": 5,
   "id": "a6ab3ed2-10cf-4084-a14e-8b448185b82d",
   "metadata": {
    "ExecuteTime": {
     "end_time": "2022-04-26T11:12:45.238216Z",
     "start_time": "2022-04-26T11:12:44.139087Z"
    }
   },
   "outputs": [
    {
     "data": {
      "text/plain": [
       "<115071x615142 sparse matrix of type '<class 'numpy.float64'>'\n",
       "\twith 5285871 stored elements in Compressed Sparse Row format>"
      ]
     },
     "metadata": {},
     "output_type": "display_data"
    }
   ],
   "source": [
    "row = np.repeat(range(len(playlist)), playlist['song_cnt'])\n",
    "col =  np.array(np.concatenate(playlist['song_newid']), dtype = np.int64)\n",
    "data = np.ones(col.shape[0])\n",
    "\n",
    "ply_song_table = csr_matrix((data, (row,col) ))\n",
    "display(ply_song_table)"
   ]
  },
  {
   "cell_type": "markdown",
   "id": "d67c1753-784a-42f5-b3b3-586d1bdf2913",
   "metadata": {},
   "source": [
    "- 현재 데이터는 유저의 선호도를 직접적으로 나타낸 평점 데이터가 아니라  \n",
    "  노래의 포함 여부만을 `0, 1`로 표현한 것이다."
   ]
  },
  {
   "cell_type": "markdown",
   "id": "45db6cb3-eed7-44d7-9f99-25851b5379d7",
   "metadata": {},
   "source": [
    ">implicit data 추천에 효과적인 ALS 협업 필터링 사용"
   ]
  },
  {
   "cell_type": "markdown",
   "id": "5e40d8bd-92fe-4c1f-88fd-c588314d4e1b",
   "metadata": {},
   "source": [
    "# implicit 라이브러리\n",
    "- [documentation](https://implicit.readthedocs.io/en/latest/quickstart.html)\n",
    "- [collaborative filtering implicit data](http://yifanhu.net/PUB/cf.pdf) 논문을 구현한 라이브러리\n",
    "- ALS 알고리즘 사용"
   ]
  },
  {
   "cell_type": "code",
   "execution_count": null,
   "id": "8da4ce0e",
   "metadata": {},
   "outputs": [],
   "source": [
    "!pip install implicit==0.4.8"
   ]
  },
  {
   "cell_type": "code",
   "execution_count": 10,
   "id": "59d78fb1",
   "metadata": {
    "ExecuteTime": {
     "end_time": "2022-04-26T11:13:12.502446Z",
     "start_time": "2022-04-26T11:13:11.346547Z"
    }
   },
   "outputs": [],
   "source": [
    "from implicit.als import AlternatingLeastSquares as ALS"
   ]
  },
  {
   "cell_type": "code",
   "execution_count": 11,
   "id": "adc9072d-8c58-4b25-aae3-62b073f4ab4f",
   "metadata": {
    "ExecuteTime": {
     "end_time": "2022-04-26T11:13:44.571326Z",
     "start_time": "2022-04-26T11:13:14.379326Z"
    }
   },
   "outputs": [
    {
     "name": "stderr",
     "output_type": "stream",
     "text": [
      "WARNING:root:OpenBLAS detected. Its highly recommend to set the environment variable 'export OPENBLAS_NUM_THREADS=1' to disable its internal multithreading\n"
     ]
    },
    {
     "data": {
      "application/vnd.jupyter.widget-view+json": {
       "model_id": "1922f1208c594ce9ace8b1f6fbe86898",
       "version_major": 2,
       "version_minor": 0
      },
      "text/plain": [
       "  0%|          | 0/30 [00:00<?, ?it/s]"
      ]
     },
     "metadata": {},
     "output_type": "display_data"
    }
   ],
   "source": [
    "# 모델링\n",
    "# 논문에서 가장 좋다고 한 factor 수 200 사용.\n",
    "# 데이터 크기를 고려하여 iter 수를 기본값의 두배인 30 설정.\n",
    "als_model = ALS(factors=200, regularization=0.1, iterations = 30)\n",
    "iterations=als_model.fit(ply_song_table.T * 10)"
   ]
  },
  {
   "cell_type": "markdown",
   "id": "5ed0e162-1bac-413e-896a-2c1b444448fc",
   "metadata": {},
   "source": [
    "### 샘플유저 노래 추천"
   ]
  },
  {
   "cell_type": "markdown",
   "id": "49390f60-3f9c-4b83-90f5-bbbbf1e37983",
   "metadata": {},
   "source": [
    "- 국악연주곡들을 모은 플레이리스트"
   ]
  },
  {
   "cell_type": "code",
   "execution_count": 22,
   "id": "e74bcc1f-4f91-40d3-887e-58b08914fa5b",
   "metadata": {
    "ExecuteTime": {
     "end_time": "2022-04-26T11:15:34.971521Z",
     "start_time": "2022-04-26T11:15:34.947520Z"
    }
   },
   "outputs": [
    {
     "data": {
      "text/html": [
       "<div>\n",
       "<style scoped>\n",
       "    .dataframe tbody tr th:only-of-type {\n",
       "        vertical-align: middle;\n",
       "    }\n",
       "\n",
       "    .dataframe tbody tr th {\n",
       "        vertical-align: top;\n",
       "    }\n",
       "\n",
       "    .dataframe thead th {\n",
       "        text-align: right;\n",
       "    }\n",
       "</style>\n",
       "<table border=\"1\" class=\"dataframe\">\n",
       "  <thead>\n",
       "    <tr style=\"text-align: right;\">\n",
       "      <th></th>\n",
       "      <th>tags</th>\n",
       "      <th>id</th>\n",
       "      <th>plylst_title</th>\n",
       "      <th>songs</th>\n",
       "      <th>like_cnt</th>\n",
       "      <th>updt_date</th>\n",
       "      <th>song_cnt</th>\n",
       "      <th>song_newid</th>\n",
       "    </tr>\n",
       "  </thead>\n",
       "  <tbody>\n",
       "    <tr>\n",
       "      <th>56481</th>\n",
       "      <td>[산책, 드라이브, 여행]</td>\n",
       "      <td>22181</td>\n",
       "      <td>편안하게 들을 수있는 노래</td>\n",
       "      <td>[429229, 595710, 2318, 54994, 610337, 666130, ...</td>\n",
       "      <td>11</td>\n",
       "      <td>2013-06-24 17:04:08.000</td>\n",
       "      <td>61</td>\n",
       "      <td>[373098, 517633, 1986, 47633, 530321, 578723, ...</td>\n",
       "    </tr>\n",
       "  </tbody>\n",
       "</table>\n",
       "</div>"
      ],
      "text/plain": [
       "                 tags     id    plylst_title  \\\n",
       "56481  [산책, 드라이브, 여행]  22181  편안하게 들을 수있는 노래   \n",
       "\n",
       "                                                   songs  like_cnt  \\\n",
       "56481  [429229, 595710, 2318, 54994, 610337, 666130, ...        11   \n",
       "\n",
       "                     updt_date  song_cnt  \\\n",
       "56481  2013-06-24 17:04:08.000        61   \n",
       "\n",
       "                                              song_newid  \n",
       "56481  [373098, 517633, 1986, 47633, 530321, 578723, ...  "
      ]
     },
     "metadata": {},
     "output_type": "display_data"
    },
    {
     "data": {
      "text/html": [
       "<div>\n",
       "<style scoped>\n",
       "    .dataframe tbody tr th:only-of-type {\n",
       "        vertical-align: middle;\n",
       "    }\n",
       "\n",
       "    .dataframe tbody tr th {\n",
       "        vertical-align: top;\n",
       "    }\n",
       "\n",
       "    .dataframe thead th {\n",
       "        text-align: right;\n",
       "    }\n",
       "</style>\n",
       "<table border=\"1\" class=\"dataframe\">\n",
       "  <thead>\n",
       "    <tr style=\"text-align: right;\">\n",
       "      <th></th>\n",
       "      <th>song_name</th>\n",
       "      <th>artist_name_basket</th>\n",
       "    </tr>\n",
       "  </thead>\n",
       "  <tbody>\n",
       "    <tr>\n",
       "      <th>429229</th>\n",
       "      <td>그냥니생각이나</td>\n",
       "      <td>[정기고]</td>\n",
       "    </tr>\n",
       "    <tr>\n",
       "      <th>595710</th>\n",
       "      <td>들리나요</td>\n",
       "      <td>[태연 (TAEYEON)]</td>\n",
       "    </tr>\n",
       "    <tr>\n",
       "      <th>2318</th>\n",
       "      <td>소녀</td>\n",
       "      <td>[이문세]</td>\n",
       "    </tr>\n",
       "    <tr>\n",
       "      <th>54994</th>\n",
       "      <td>사랑 첫 느낌</td>\n",
       "      <td>[에일리]</td>\n",
       "    </tr>\n",
       "    <tr>\n",
       "      <th>610337</th>\n",
       "      <td>사랑은 이렇게</td>\n",
       "      <td>[케이윌]</td>\n",
       "    </tr>\n",
       "    <tr>\n",
       "      <th>...</th>\n",
       "      <td>...</td>\n",
       "      <td>...</td>\n",
       "    </tr>\n",
       "    <tr>\n",
       "      <th>199134</th>\n",
       "      <td>거기서거기 (Without You)</td>\n",
       "      <td>[다이나믹 듀오]</td>\n",
       "    </tr>\n",
       "    <tr>\n",
       "      <th>294935</th>\n",
       "      <td>동행 (同行) (Duet With 호란)</td>\n",
       "      <td>[박기영]</td>\n",
       "    </tr>\n",
       "    <tr>\n",
       "      <th>272924</th>\n",
       "      <td>Gone (Feat. 주희 Of 에이트)</td>\n",
       "      <td>[다이나믹 듀오]</td>\n",
       "    </tr>\n",
       "    <tr>\n",
       "      <th>299019</th>\n",
       "      <td>옛사랑</td>\n",
       "      <td>[이문세]</td>\n",
       "    </tr>\n",
       "    <tr>\n",
       "      <th>8763</th>\n",
       "      <td>심장이 없어</td>\n",
       "      <td>[에이트]</td>\n",
       "    </tr>\n",
       "  </tbody>\n",
       "</table>\n",
       "<p>61 rows × 2 columns</p>\n",
       "</div>"
      ],
      "text/plain": [
       "                     song_name artist_name_basket\n",
       "429229                 그냥니생각이나              [정기고]\n",
       "595710                    들리나요     [태연 (TAEYEON)]\n",
       "2318                        소녀              [이문세]\n",
       "54994                  사랑 첫 느낌              [에일리]\n",
       "610337                 사랑은 이렇게              [케이윌]\n",
       "...                        ...                ...\n",
       "199134     거기서거기 (Without You)          [다이나믹 듀오]\n",
       "294935  동행 (同行) (Duet With 호란)              [박기영]\n",
       "272924  Gone (Feat. 주희 Of 에이트)          [다이나믹 듀오]\n",
       "299019                     옛사랑              [이문세]\n",
       "8763                    심장이 없어              [에이트]\n",
       "\n",
       "[61 rows x 2 columns]"
      ]
     },
     "metadata": {},
     "output_type": "display_data"
    }
   ],
   "source": [
    "user_id =56481\n",
    "\n",
    "display(playlist.iloc[[user_id]])\n",
    "\n",
    "# 플레이리스트 수록곡\n",
    "display(song_meta.iloc[playlist.iloc[user_id]['songs']][['song_name','artist_name_basket']])"
   ]
  },
  {
   "cell_type": "markdown",
   "id": "ff9b45d7",
   "metadata": {},
   "source": [
    "샘플 플레이리스트는 국악 연주곡을 모아 놓은 플레이리스트이다."
   ]
  },
  {
   "cell_type": "code",
   "execution_count": 26,
   "id": "133556cf-3532-4ba5-85af-a15806dacd4b",
   "metadata": {
    "ExecuteTime": {
     "end_time": "2022-04-26T12:03:15.336365Z",
     "start_time": "2022-04-26T12:03:15.283743Z"
    }
   },
   "outputs": [
    {
     "name": "stdout",
     "output_type": "stream",
     "text": [
      "Wall time: 26 ms\n"
     ]
    },
    {
     "data": {
      "text/html": [
       "<div>\n",
       "<style scoped>\n",
       "    .dataframe tbody tr th:only-of-type {\n",
       "        vertical-align: middle;\n",
       "    }\n",
       "\n",
       "    .dataframe tbody tr th {\n",
       "        vertical-align: top;\n",
       "    }\n",
       "\n",
       "    .dataframe thead th {\n",
       "        text-align: right;\n",
       "    }\n",
       "</style>\n",
       "<table border=\"1\" class=\"dataframe\">\n",
       "  <thead>\n",
       "    <tr style=\"text-align: right;\">\n",
       "      <th></th>\n",
       "      <th>song_name</th>\n",
       "      <th>artist_name_basket</th>\n",
       "    </tr>\n",
       "  </thead>\n",
       "  <tbody>\n",
       "    <tr>\n",
       "      <th>109926</th>\n",
       "      <td>사랑이 다른 사랑으로 잊혀지네</td>\n",
       "      <td>[하림]</td>\n",
       "    </tr>\n",
       "    <tr>\n",
       "      <th>325609</th>\n",
       "      <td>사랑..그 놈</td>\n",
       "      <td>[바비 킴]</td>\n",
       "    </tr>\n",
       "    <tr>\n",
       "      <th>374617</th>\n",
       "      <td>자니 (Feat. Dynamic Duo)</td>\n",
       "      <td>[프라이머리]</td>\n",
       "    </tr>\n",
       "    <tr>\n",
       "      <th>566257</th>\n",
       "      <td>좋아보여 (Feat. 검정치마)</td>\n",
       "      <td>[버벌진트]</td>\n",
       "    </tr>\n",
       "    <tr>\n",
       "      <th>293236</th>\n",
       "      <td>봄봄봄</td>\n",
       "      <td>[로이킴]</td>\n",
       "    </tr>\n",
       "    <tr>\n",
       "      <th>228501</th>\n",
       "      <td>굿모닝 (Feat. 권정열 Of 10cm)</td>\n",
       "      <td>[버벌진트]</td>\n",
       "    </tr>\n",
       "    <tr>\n",
       "      <th>411339</th>\n",
       "      <td>어때 (Feat. 하림)</td>\n",
       "      <td>[긱스 (Geeks)]</td>\n",
       "    </tr>\n",
       "    <tr>\n",
       "      <th>317057</th>\n",
       "      <td>눈물샤워 (Feat. 에일리)</td>\n",
       "      <td>[배치기]</td>\n",
       "    </tr>\n",
       "    <tr>\n",
       "      <th>249594</th>\n",
       "      <td>충분히 예뻐 (feat. 산체스 Of 팬텀)</td>\n",
       "      <td>[버벌진트]</td>\n",
       "    </tr>\n",
       "    <tr>\n",
       "      <th>333408</th>\n",
       "      <td>Officially Missing You, Too</td>\n",
       "      <td>[긱스 (Geeks), 소유 (SOYOU)]</td>\n",
       "    </tr>\n",
       "    <tr>\n",
       "      <th>253755</th>\n",
       "      <td>바람이 분다</td>\n",
       "      <td>[이소라]</td>\n",
       "    </tr>\n",
       "    <tr>\n",
       "      <th>13198</th>\n",
       "      <td>기억을 걷는 시간</td>\n",
       "      <td>[넬 (NELL)]</td>\n",
       "    </tr>\n",
       "    <tr>\n",
       "      <th>579592</th>\n",
       "      <td>헤어지지 못하는 여자, 떠나가지 못하는 남자 (Feat. 정인)</td>\n",
       "      <td>[리쌍]</td>\n",
       "    </tr>\n",
       "    <tr>\n",
       "      <th>479111</th>\n",
       "      <td>내 사랑아</td>\n",
       "      <td>[이종현 (CNBLUE)]</td>\n",
       "    </tr>\n",
       "    <tr>\n",
       "      <th>77659</th>\n",
       "      <td>이게 사랑이 아니면 (Feat. 에일리)</td>\n",
       "      <td>[버벌진트]</td>\n",
       "    </tr>\n",
       "    <tr>\n",
       "      <th>282045</th>\n",
       "      <td>아는사람 얘기</td>\n",
       "      <td>[San E]</td>\n",
       "    </tr>\n",
       "    <tr>\n",
       "      <th>688951</th>\n",
       "      <td>? (물음표) (Feat. 최자 Of 다이나믹듀오, Zion.T)</td>\n",
       "      <td>[프라이머리]</td>\n",
       "    </tr>\n",
       "    <tr>\n",
       "      <th>413837</th>\n",
       "      <td>만약에 말야 (전우성 Solo)</td>\n",
       "      <td>[노을]</td>\n",
       "    </tr>\n",
       "    <tr>\n",
       "      <th>473570</th>\n",
       "      <td>사랑하기 때문에</td>\n",
       "      <td>[유재하]</td>\n",
       "    </tr>\n",
       "    <tr>\n",
       "      <th>239518</th>\n",
       "      <td>모노드라마 (With 유승우)</td>\n",
       "      <td>[허각]</td>\n",
       "    </tr>\n",
       "    <tr>\n",
       "      <th>260719</th>\n",
       "      <td>가슴 시린 이야기 (Feat. 용준형 Of Beast)</td>\n",
       "      <td>[휘성 (Realslow)]</td>\n",
       "    </tr>\n",
       "    <tr>\n",
       "      <th>78222</th>\n",
       "      <td>유리 심장 (Feat. 용준형 Of 비스트)</td>\n",
       "      <td>[린]</td>\n",
       "    </tr>\n",
       "    <tr>\n",
       "      <th>275414</th>\n",
       "      <td>Officially Missing You</td>\n",
       "      <td>[긱스 (Geeks)]</td>\n",
       "    </tr>\n",
       "    <tr>\n",
       "      <th>534517</th>\n",
       "      <td>Wash Away (Feat. 에일리)</td>\n",
       "      <td>[긱스 (Geeks)]</td>\n",
       "    </tr>\n",
       "    <tr>\n",
       "      <th>80103</th>\n",
       "      <td>갖고놀래 (Feat. 다이나믹 듀오)</td>\n",
       "      <td>[범키]</td>\n",
       "    </tr>\n",
       "    <tr>\n",
       "      <th>318871</th>\n",
       "      <td>좋아 (JOAH)</td>\n",
       "      <td>[박재범]</td>\n",
       "    </tr>\n",
       "    <tr>\n",
       "      <th>338622</th>\n",
       "      <td>눈물이 뚝뚝</td>\n",
       "      <td>[케이윌]</td>\n",
       "    </tr>\n",
       "    <tr>\n",
       "      <th>465471</th>\n",
       "      <td>비범벅 (Feat. 범키)</td>\n",
       "      <td>[버벌진트]</td>\n",
       "    </tr>\n",
       "    <tr>\n",
       "      <th>104450</th>\n",
       "      <td>다행이다</td>\n",
       "      <td>[이적]</td>\n",
       "    </tr>\n",
       "    <tr>\n",
       "      <th>132994</th>\n",
       "      <td>벚꽃 엔딩</td>\n",
       "      <td>[버스커 버스커]</td>\n",
       "    </tr>\n",
       "  </tbody>\n",
       "</table>\n",
       "</div>"
      ],
      "text/plain": [
       "                                   song_name        artist_name_basket\n",
       "109926                      사랑이 다른 사랑으로 잊혀지네                      [하림]\n",
       "325609                               사랑..그 놈                    [바비 킴]\n",
       "374617                자니 (Feat. Dynamic Duo)                   [프라이머리]\n",
       "566257                     좋아보여 (Feat. 검정치마)                    [버벌진트]\n",
       "293236                                   봄봄봄                     [로이킴]\n",
       "228501               굿모닝 (Feat. 권정열 Of 10cm)                    [버벌진트]\n",
       "411339                         어때 (Feat. 하림)              [긱스 (Geeks)]\n",
       "317057                      눈물샤워 (Feat. 에일리)                     [배치기]\n",
       "249594              충분히 예뻐 (feat. 산체스 Of 팬텀)                    [버벌진트]\n",
       "333408           Officially Missing You, Too  [긱스 (Geeks), 소유 (SOYOU)]\n",
       "253755                                바람이 분다                     [이소라]\n",
       "13198                              기억을 걷는 시간                [넬 (NELL)]\n",
       "579592   헤어지지 못하는 여자, 떠나가지 못하는 남자 (Feat. 정인)                      [리쌍]\n",
       "479111                                 내 사랑아            [이종현 (CNBLUE)]\n",
       "77659                 이게 사랑이 아니면 (Feat. 에일리)                    [버벌진트]\n",
       "282045                               아는사람 얘기                   [San E]\n",
       "688951  ? (물음표) (Feat. 최자 Of 다이나믹듀오, Zion.T)                   [프라이머리]\n",
       "413837                     만약에 말야 (전우성 Solo)                      [노을]\n",
       "473570                              사랑하기 때문에                     [유재하]\n",
       "239518                      모노드라마 (With 유승우)                      [허각]\n",
       "260719        가슴 시린 이야기 (Feat. 용준형 Of Beast)           [휘성 (Realslow)]\n",
       "78222               유리 심장 (Feat. 용준형 Of 비스트)                       [린]\n",
       "275414                Officially Missing You              [긱스 (Geeks)]\n",
       "534517                 Wash Away (Feat. 에일리)              [긱스 (Geeks)]\n",
       "80103                   갖고놀래 (Feat. 다이나믹 듀오)                      [범키]\n",
       "318871                             좋아 (JOAH)                     [박재범]\n",
       "338622                                눈물이 뚝뚝                     [케이윌]\n",
       "465471                        비범벅 (Feat. 범키)                    [버벌진트]\n",
       "104450                                  다행이다                      [이적]\n",
       "132994                                 벚꽃 엔딩                 [버스커 버스커]"
      ]
     },
     "execution_count": 26,
     "metadata": {},
     "output_type": "execute_result"
    }
   ],
   "source": [
    "%%time\n",
    "# user_playlist_id = 92059\n",
    "rec_songs = als_model.recommend(user_id, ply_song_table, N = 30)\n",
    "# 추천 받은 노래 확인하기\n",
    "rec_songs_list = [x for x, _ in rec_songs]\n",
    "song_meta.iloc[ [newid_to_song[x]  for x in rec_songs_list] ][['song_name','artist_name_basket']]"
   ]
  },
  {
   "cell_type": "markdown",
   "id": "17a6ca71-3814-4df8-88da-686bcd163f89",
   "metadata": {},
   "source": [
    "-  추천 예측 결과 사극ost 등 동양풍 연주곡 위주의 결과를 확인할 수 있다."
   ]
  },
  {
   "cell_type": "markdown",
   "id": "30b69a6f-619b-4f30-98cd-0026cbc2e06b",
   "metadata": {},
   "source": [
    "---"
   ]
  },
  {
   "cell_type": "markdown",
   "id": "7a440a20-e20f-42f8-9771-1f39a4ba90db",
   "metadata": {},
   "source": [
    "# 평가\n",
    "\n",
    "## 평가지표\n",
    "### hit rate  \n",
    "  - 30곡을 추천하여 일치한 노래가 하나라도 있을 경우 `1`, 아닌경우 `0`으로 한다.\n",
    "\n",
    "### Precision\n",
    "  -  `적중한 곡 수 / 추천한 곡 수` \n",
    "### recall\n",
    "  -  `적중한 곡 수 / 테스트 곡 수`"
   ]
  },
  {
   "cell_type": "markdown",
   "id": "2c973c1f-f594-4965-a0a0-95d8f041054d",
   "metadata": {},
   "source": [
    "### 평가 방식\n",
    "- 플레이리스트 중 일부에서 곡의 절반을 숨기고 ALS 행렬분해 적용\n",
    "- ALS 결과 테이블에서 점수가 높은 곡들과 숨긴 원본 곡을 비교하여 평가 "
   ]
  },
  {
   "cell_type": "code",
   "execution_count": 55,
   "id": "1093e596",
   "metadata": {
    "ExecuteTime": {
     "end_time": "2022-04-26T14:11:02.563969Z",
     "start_time": "2022-04-26T14:11:02.554968Z"
    }
   },
   "outputs": [],
   "source": [
    "def hit_rate(rec, answer):\n",
    "    s1 = set(rec) \n",
    "    s2 = set(answer)\n",
    "    if len(s1 & s2) >= 1:\n",
    "        return 1\n",
    "    else:\n",
    "        return 0\n",
    "\n",
    "def precision(rec, answer):\n",
    "    s1 = set(rec)\n",
    "    s2 = set(answer)\n",
    "    return len(( s1 & s2 )) / len(rec)\n",
    "\n",
    "def recall(rec, answer):\n",
    "    s1 = set(rec)\n",
    "    s2 = set(answer)\n",
    "    return len(( s1 & s2 )) / len(answer)"
   ]
  },
  {
   "cell_type": "markdown",
   "id": "64827688",
   "metadata": {},
   "source": [
    "## 테스트 데이터"
   ]
  },
  {
   "cell_type": "code",
   "execution_count": 29,
   "id": "b966f90b-6577-45eb-8390-0154c5ff438b",
   "metadata": {
    "ExecuteTime": {
     "end_time": "2022-04-26T12:57:05.605950Z",
     "start_time": "2022-04-26T12:57:04.098651Z"
    }
   },
   "outputs": [
    {
     "name": "stderr",
     "output_type": "stream",
     "text": [
      "100%|███████████████████████████████████████████████████████████████████████| 115071/115071 [00:01<00:00, 96189.18it/s]\n",
      "100%|██████████████████████████████████████████████████████████████████████| 115071/115071 [00:00<00:00, 395432.17it/s]\n"
     ]
    }
   ],
   "source": [
    "# 노래의 절반을 없앤 컬럼 추가\n",
    "playlist['song_train'] = playlist['song_newid'].progress_apply(lambda x : x[:(len(x)//2)])\n",
    "playlist['song_test'] = playlist['song_newid'].progress_apply(lambda x : x[(len(x)//2):])"
   ]
  },
  {
   "cell_type": "code",
   "execution_count": 32,
   "id": "c06eb9bf",
   "metadata": {
    "ExecuteTime": {
     "end_time": "2022-04-26T13:01:07.215627Z",
     "start_time": "2022-04-26T13:01:07.122088Z"
    }
   },
   "outputs": [],
   "source": [
    "# train test 인덱스 분리\n",
    "train_df, test_df = train_test_split(playlist, test_size = 0.1, shuffle = True)"
   ]
  },
  {
   "cell_type": "markdown",
   "id": "612ed05f",
   "metadata": {},
   "source": [
    "train / test를 분리하더라도 협업테이블을 적용할 테이블의 전체 유저수는 유지되어야 한다. (헙업필터링은 존재하는 유저에 대해서만 추천 가능함)  \n",
    "`train_df` idx를 가진 플레이리스트는 원본 곡 리스트,  \n",
    "`test_df` idx를 가진 플레이리스트는 원본 곡의 절반만을 제공한다.  "
   ]
  },
  {
   "cell_type": "code",
   "execution_count": 33,
   "id": "5d9eb381",
   "metadata": {
    "ExecuteTime": {
     "end_time": "2022-04-26T13:01:09.585768Z",
     "start_time": "2022-04-26T13:01:09.189736Z"
    }
   },
   "outputs": [],
   "source": [
    "train_final = pd.DataFrame(train_df['song_newid'].append(test_df['song_train']), columns = ['song_newid'])\n",
    "train_final['song_cnt'] = train_final['song_newid'].map(lambda x : len(x))\n",
    "all_train_songs = list(set(chain(*train_final['song_newid'])))\n",
    "n_songs = len(all_songs)"
   ]
  },
  {
   "cell_type": "code",
   "execution_count": 34,
   "id": "06c0cf00",
   "metadata": {
    "ExecuteTime": {
     "end_time": "2022-04-26T13:01:11.755735Z",
     "start_time": "2022-04-26T13:01:11.725736Z"
    }
   },
   "outputs": [],
   "source": [
    "# 섞인 인덱스 정렬\n",
    "train_final = train_final.sort_index()"
   ]
  },
  {
   "cell_type": "code",
   "execution_count": 35,
   "id": "bf6f9d73",
   "metadata": {
    "ExecuteTime": {
     "end_time": "2022-04-26T13:01:15.035736Z",
     "start_time": "2022-04-26T13:01:13.970736Z"
    }
   },
   "outputs": [],
   "source": [
    "# 검증용 테이블로 희소행렬 생성\n",
    "\n",
    "row = np.repeat(range(len(train_final)), train_final['song_cnt'])\n",
    "col =  np.array(np.concatenate(train_final['song_newid']), dtype = np.int64)\n",
    "data = np.ones(col.shape[0])\n",
    "\n",
    "train_ply_song_table = csr_matrix((data, (row,col)))"
   ]
  },
  {
   "cell_type": "code",
   "execution_count": 16,
   "id": "cb0c0bc6",
   "metadata": {},
   "outputs": [
    {
     "data": {
      "application/vnd.jupyter.widget-view+json": {
       "model_id": "c012e9f29fef4cb5bd8d6f00c08af2e2",
       "version_major": 2,
       "version_minor": 0
      },
      "text/plain": [
       "  0%|          | 0/15 [00:00<?, ?it/s]"
      ]
     },
     "metadata": {},
     "output_type": "display_data"
    }
   ],
   "source": [
    "# 검증용 테이블로 ALS 협업필터링 수행\n",
    "\n",
    "from implicit.als import AlternatingLeastSquares as ALS\n",
    "als_model = ALS(factors=200, regularization=0.1 ) # 잠재요인 수 200\n",
    "als_model.fit(train_ply_song_table.T * 40)"
   ]
  },
  {
   "cell_type": "markdown",
   "id": "43cdd92b",
   "metadata": {},
   "source": [
    "test_df idx를 가진 플레이리스트들의 30곡 추천을 받고  \n",
    "감추었던 실제 곡 리스트와 비교한다."
   ]
  },
  {
   "cell_type": "code",
   "execution_count": 36,
   "id": "40447a98",
   "metadata": {
    "ExecuteTime": {
     "end_time": "2022-04-26T13:05:44.965722Z",
     "start_time": "2022-04-26T13:01:25.874723Z"
    }
   },
   "outputs": [
    {
     "name": "stderr",
     "output_type": "stream",
     "text": [
      "100%|████████████████████████████████████████████████████████████████████████████| 11508/11508 [04:19<00:00, 44.42it/s]\n"
     ]
    }
   ],
   "source": [
    "# test index 모음\n",
    "test_index_list = test_df.index\n",
    "answer_list = test_df['song_test'].tolist()\n",
    "\n",
    "#예측하기.\n",
    "rec_list = []\n",
    "for playlist_id in tqdm(test_index_list):\n",
    "    rec_songs = als_model.recommend(playlist_id, train_ply_song_table, N = 30)\n",
    "    rec_songs_list = [x for x, _ in rec_songs]\n",
    "    rec_list.append(rec_songs_list)"
   ]
  },
  {
   "cell_type": "code",
   "execution_count": 54,
   "id": "5cfb48b5",
   "metadata": {
    "ExecuteTime": {
     "end_time": "2022-04-26T14:09:45.008821Z",
     "start_time": "2022-04-26T14:09:44.835790Z"
    }
   },
   "outputs": [
    {
     "name": "stderr",
     "output_type": "stream",
     "text": [
      "100%|█████████████████████████████████████████████████████████████████████████| 11508/11508 [00:00<00:00, 70595.60it/s]"
     ]
    },
    {
     "name": "stdout",
     "output_type": "stream",
     "text": [
      "hit rate\n",
      "0.8147375738616615\n",
      "precision\n",
      "0.1587996755879953\n",
      "recall\n",
      "0.23120357432039962\n",
      "f1 score\n",
      "0.18828075204751835\n"
     ]
    },
    {
     "name": "stderr",
     "output_type": "stream",
     "text": [
      "\n"
     ]
    }
   ],
   "source": [
    "hit_rate_ = 0\n",
    "precision_ = 0\n",
    "recall_ = 0\n",
    "for rec, answer in tqdm(zip(rec_list, answer_list), total = len(test_index_list)):\n",
    "    hit_rate_ += hit_rate(rec, answer)\n",
    "    precision_ += precision(rec, answer)\n",
    "    recall_ += recall(rec, answer)\n",
    "\n",
    "hit = hit_rate_/len(test_index_list)\n",
    "prec  = precision_/len(test_index_list)\n",
    "rec = recall_/len(test_index_list)\n",
    "f1_score =  2 * ((precision *  recall) / (precision + recall) )\n",
    "\n",
    "print('hit rate')\n",
    "print(hit_rate)\n",
    "\n",
    "print('precision')\n",
    "print(precision)\n",
    "\n",
    "print('recall')\n",
    "print(recall)\n",
    "\n",
    "print('f1 score')\n",
    "print(f1_score)"
   ]
  },
  {
   "cell_type": "markdown",
   "id": "cf902acf",
   "metadata": {},
   "source": [
    "### 무작위 유저의 곡 추천 예측 확인"
   ]
  },
  {
   "cell_type": "code",
   "execution_count": 59,
   "id": "a37cc1d0",
   "metadata": {
    "ExecuteTime": {
     "end_time": "2022-04-26T14:32:14.692861Z",
     "start_time": "2022-04-26T14:32:14.636861Z"
    }
   },
   "outputs": [
    {
     "data": {
      "text/plain": [
       "'원래 가진 노래'"
      ]
     },
     "metadata": {},
     "output_type": "display_data"
    },
    {
     "data": {
      "text/html": [
       "<div>\n",
       "<style scoped>\n",
       "    .dataframe tbody tr th:only-of-type {\n",
       "        vertical-align: middle;\n",
       "    }\n",
       "\n",
       "    .dataframe tbody tr th {\n",
       "        vertical-align: top;\n",
       "    }\n",
       "\n",
       "    .dataframe thead th {\n",
       "        text-align: right;\n",
       "    }\n",
       "</style>\n",
       "<table border=\"1\" class=\"dataframe\">\n",
       "  <thead>\n",
       "    <tr style=\"text-align: right;\">\n",
       "      <th></th>\n",
       "      <th>song_name</th>\n",
       "      <th>artist_name_basket</th>\n",
       "    </tr>\n",
       "  </thead>\n",
       "  <tbody>\n",
       "    <tr>\n",
       "      <th>77547</th>\n",
       "      <td>애월</td>\n",
       "      <td>[문문 (MoonMoon)]</td>\n",
       "    </tr>\n",
       "    <tr>\n",
       "      <th>131295</th>\n",
       "      <td>비행운</td>\n",
       "      <td>[문문 (MoonMoon)]</td>\n",
       "    </tr>\n",
       "    <tr>\n",
       "      <th>368044</th>\n",
       "      <td>물감</td>\n",
       "      <td>[문문 (MoonMoon)]</td>\n",
       "    </tr>\n",
       "    <tr>\n",
       "      <th>123837</th>\n",
       "      <td>좋아했나봐 (Feat. 매드클라운)</td>\n",
       "      <td>[마인드유]</td>\n",
       "    </tr>\n",
       "    <tr>\n",
       "      <th>115359</th>\n",
       "      <td>얘지</td>\n",
       "      <td>[HOONIA]</td>\n",
       "    </tr>\n",
       "    <tr>\n",
       "      <th>289427</th>\n",
       "      <td>Tomorrow</td>\n",
       "      <td>[그리즐리 (Grizzly)]</td>\n",
       "    </tr>\n",
       "    <tr>\n",
       "      <th>461212</th>\n",
       "      <td>말과 말 사이</td>\n",
       "      <td>[D.no]</td>\n",
       "    </tr>\n",
       "    <tr>\n",
       "      <th>692514</th>\n",
       "      <td>그 자리에 있어줘</td>\n",
       "      <td>[iamnot (아이엠낫)]</td>\n",
       "    </tr>\n",
       "    <tr>\n",
       "      <th>387781</th>\n",
       "      <td>안 미안해 (I`M NOT SORRY)</td>\n",
       "      <td>[이형은]</td>\n",
       "    </tr>\n",
       "    <tr>\n",
       "      <th>605730</th>\n",
       "      <td>Fall In Love</td>\n",
       "      <td>[오왠 (O.WHEN)]</td>\n",
       "    </tr>\n",
       "    <tr>\n",
       "      <th>458369</th>\n",
       "      <td>궁금해줘요 (Feat. 백선)</td>\n",
       "      <td>[공기남]</td>\n",
       "    </tr>\n",
       "  </tbody>\n",
       "</table>\n",
       "</div>"
      ],
      "text/plain": [
       "                    song_name artist_name_basket\n",
       "77547                      애월    [문문 (MoonMoon)]\n",
       "131295                    비행운    [문문 (MoonMoon)]\n",
       "368044                     물감    [문문 (MoonMoon)]\n",
       "123837    좋아했나봐 (Feat. 매드클라운)             [마인드유]\n",
       "115359                     얘지           [HOONIA]\n",
       "289427               Tomorrow   [그리즐리 (Grizzly)]\n",
       "461212                말과 말 사이             [D.no]\n",
       "692514              그 자리에 있어줘    [iamnot (아이엠낫)]\n",
       "387781  안 미안해 (I`M NOT SORRY)              [이형은]\n",
       "605730           Fall In Love      [오왠 (O.WHEN)]\n",
       "458369       궁금해줘요 (Feat. 백선)              [공기남]"
      ]
     },
     "metadata": {},
     "output_type": "display_data"
    },
    {
     "data": {
      "text/plain": [
       "'추천된 노래'"
      ]
     },
     "metadata": {},
     "output_type": "display_data"
    },
    {
     "data": {
      "text/html": [
       "<div>\n",
       "<style scoped>\n",
       "    .dataframe tbody tr th:only-of-type {\n",
       "        vertical-align: middle;\n",
       "    }\n",
       "\n",
       "    .dataframe tbody tr th {\n",
       "        vertical-align: top;\n",
       "    }\n",
       "\n",
       "    .dataframe thead th {\n",
       "        text-align: right;\n",
       "    }\n",
       "</style>\n",
       "<table border=\"1\" class=\"dataframe\">\n",
       "  <thead>\n",
       "    <tr style=\"text-align: right;\">\n",
       "      <th></th>\n",
       "      <th>song_name</th>\n",
       "      <th>artist_name_basket</th>\n",
       "    </tr>\n",
       "  </thead>\n",
       "  <tbody>\n",
       "    <tr>\n",
       "      <th>131295</th>\n",
       "      <td>비행운</td>\n",
       "      <td>[문문 (MoonMoon)]</td>\n",
       "    </tr>\n",
       "    <tr>\n",
       "      <th>233166</th>\n",
       "      <td>선을 그어 주던가</td>\n",
       "      <td>[1415]</td>\n",
       "    </tr>\n",
       "    <tr>\n",
       "      <th>368044</th>\n",
       "      <td>물감</td>\n",
       "      <td>[문문 (MoonMoon)]</td>\n",
       "    </tr>\n",
       "    <tr>\n",
       "      <th>478754</th>\n",
       "      <td>선물</td>\n",
       "      <td>[멜로망스]</td>\n",
       "    </tr>\n",
       "    <tr>\n",
       "      <th>700348</th>\n",
       "      <td>Walking in the Moonlight (Feat. 다원, Lazier)</td>\n",
       "      <td>[서교동의 밤]</td>\n",
       "    </tr>\n",
       "    <tr>\n",
       "      <th>300087</th>\n",
       "      <td>Madeleine Love</td>\n",
       "      <td>[CHEEZE (치즈)]</td>\n",
       "    </tr>\n",
       "    <tr>\n",
       "      <th>576186</th>\n",
       "      <td>좋아해 (bye)</td>\n",
       "      <td>[CHEEZE (치즈)]</td>\n",
       "    </tr>\n",
       "    <tr>\n",
       "      <th>205247</th>\n",
       "      <td>밤이 되니까</td>\n",
       "      <td>[펀치 (Punch)]</td>\n",
       "    </tr>\n",
       "    <tr>\n",
       "      <th>683520</th>\n",
       "      <td>어떻게 생각해</td>\n",
       "      <td>[CHEEZE (치즈)]</td>\n",
       "    </tr>\n",
       "    <tr>\n",
       "      <th>625996</th>\n",
       "      <td>Autumn Breeze (Feat. Rachel Lim)</td>\n",
       "      <td>[JIDA (지다)]</td>\n",
       "    </tr>\n",
       "    <tr>\n",
       "      <th>683085</th>\n",
       "      <td>너의 밤은 어때</td>\n",
       "      <td>[그_냥]</td>\n",
       "    </tr>\n",
       "    <tr>\n",
       "      <th>689661</th>\n",
       "      <td>지금껏 그랬듯 앞으로도 계속</td>\n",
       "      <td>[구름]</td>\n",
       "    </tr>\n",
       "    <tr>\n",
       "      <th>670510</th>\n",
       "      <td>Wanna Love You</td>\n",
       "      <td>[폴킴]</td>\n",
       "    </tr>\n",
       "    <tr>\n",
       "      <th>351888</th>\n",
       "      <td>니가 보고싶은 밤</td>\n",
       "      <td>[윤딴딴]</td>\n",
       "    </tr>\n",
       "    <tr>\n",
       "      <th>486705</th>\n",
       "      <td>겨울을 걷는다</td>\n",
       "      <td>[윤딴딴]</td>\n",
       "    </tr>\n",
       "  </tbody>\n",
       "</table>\n",
       "</div>"
      ],
      "text/plain": [
       "                                          song_name artist_name_basket\n",
       "131295                                          비행운    [문문 (MoonMoon)]\n",
       "233166                                    선을 그어 주던가             [1415]\n",
       "368044                                           물감    [문문 (MoonMoon)]\n",
       "478754                                           선물             [멜로망스]\n",
       "700348  Walking in the Moonlight (Feat. 다원, Lazier)           [서교동의 밤]\n",
       "300087                               Madeleine Love      [CHEEZE (치즈)]\n",
       "576186                                    좋아해 (bye)      [CHEEZE (치즈)]\n",
       "205247                                       밤이 되니까       [펀치 (Punch)]\n",
       "683520                                      어떻게 생각해      [CHEEZE (치즈)]\n",
       "625996             Autumn Breeze (Feat. Rachel Lim)        [JIDA (지다)]\n",
       "683085                                     너의 밤은 어때              [그_냥]\n",
       "689661                              지금껏 그랬듯 앞으로도 계속               [구름]\n",
       "670510                               Wanna Love You               [폴킴]\n",
       "351888                                    니가 보고싶은 밤              [윤딴딴]\n",
       "486705                                      겨울을 걷는다              [윤딴딴]"
      ]
     },
     "metadata": {},
     "output_type": "display_data"
    }
   ],
   "source": [
    "sample_user = random.sample(list(test_index_list), 1)[0]\n",
    "sample_user_test = playlist.iloc[sample_user]['song_test']\n",
    "sample_user_rec = als_model.recommend(sample_user, train_ply_song_table, N = 30)\n",
    "sample_user_rec = [x for x, _ in sample_user_rec]\n",
    "display(\"원래 가진 노래\", song_meta.iloc[ [newid_to_song[x]  for x in sample_user_test] ][['song_name','artist_name_basket']][:15])\n",
    "display(\"추천된 노래\", song_meta.iloc[ [newid_to_song[x]  for x in sample_user_rec] ][['song_name','artist_name_basket']][:15])"
   ]
  },
  {
   "cell_type": "markdown",
   "id": "b2341765",
   "metadata": {},
   "source": [
    ">**평가 지표상 점수는 굉장히 낮지만 원본 플레이리스트의 곡들과 유사한 곡들이 추천되는 것을 확인 할 수 있었다.**"
   ]
  }
 ],
 "metadata": {
  "kernelspec": {
   "display_name": "Python 3",
   "language": "python",
   "name": "python3"
  },
  "language_info": {
   "codemirror_mode": {
    "name": "ipython",
    "version": 3
   },
   "file_extension": ".py",
   "mimetype": "text/x-python",
   "name": "python",
   "nbconvert_exporter": "python",
   "pygments_lexer": "ipython3",
   "version": "3.8.8"
  },
  "varInspector": {
   "cols": {
    "lenName": 16,
    "lenType": 16,
    "lenVar": 40
   },
   "kernels_config": {
    "python": {
     "delete_cmd_postfix": "",
     "delete_cmd_prefix": "del ",
     "library": "var_list.py",
     "varRefreshCmd": "print(var_dic_list())"
    },
    "r": {
     "delete_cmd_postfix": ") ",
     "delete_cmd_prefix": "rm(",
     "library": "var_list.r",
     "varRefreshCmd": "cat(var_dic_list()) "
    }
   },
   "types_to_exclude": [
    "module",
    "function",
    "builtin_function_or_method",
    "instance",
    "_Feature"
   ],
   "window_display": false
  }
 },
 "nbformat": 4,
 "nbformat_minor": 5
}
